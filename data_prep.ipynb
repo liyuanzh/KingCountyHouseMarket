{
 "cells": [
  {
   "cell_type": "code",
   "execution_count": null,
   "metadata": {},
   "outputs": [],
   "source": [
    "# Download \"Residential Building\" and \"Real Property Sales\" from King County Website\n",
    "# http://info.kingcounty.gov/assessor/DataDownload/default.aspx\n",
    "# Put in the same folder as this file\n",
    "# Output will be two new data files: \n",
    "# 1) \"Renovated.csv\" - Residential buildings that have been renovated\n",
    "# 2) \"MultiSale.csv\" - Residential buildings that have been renovated and sold more than once"
   ]
  },
  {
   "cell_type": "code",
   "execution_count": null,
   "metadata": {},
   "outputs": [],
   "source": [
    "import pandas as pd\n",
    "\n",
    "# I. import residential data\n",
    "residential_dtype = {\"Major\": str, \"Minor\": str}\n",
    "residential_df = pd.read_csv(\"EXTR_ResBldg.csv\", dtype = residential_dtype)"
   ]
  },
  {
   "cell_type": "code",
   "execution_count": 71,
   "metadata": {},
   "outputs": [
    {
     "data": {
      "text/html": [
       "<div>\n",
       "<style scoped>\n",
       "    .dataframe tbody tr th:only-of-type {\n",
       "        vertical-align: middle;\n",
       "    }\n",
       "\n",
       "    .dataframe tbody tr th {\n",
       "        vertical-align: top;\n",
       "    }\n",
       "\n",
       "    .dataframe thead th {\n",
       "        text-align: right;\n",
       "    }\n",
       "</style>\n",
       "<table border=\"1\" class=\"dataframe\">\n",
       "  <thead>\n",
       "    <tr style=\"text-align: right;\">\n",
       "      <th></th>\n",
       "      <th>Major</th>\n",
       "      <th>Minor</th>\n",
       "      <th>BldgNbr</th>\n",
       "      <th>NbrLivingUnits</th>\n",
       "      <th>Address</th>\n",
       "      <th>BuildingNumber</th>\n",
       "      <th>Fraction</th>\n",
       "      <th>DirectionPrefix</th>\n",
       "      <th>StreetName</th>\n",
       "      <th>StreetType</th>\n",
       "      <th>...</th>\n",
       "      <th>FpMultiStory</th>\n",
       "      <th>FpFreestanding</th>\n",
       "      <th>FpAdditional</th>\n",
       "      <th>YrBuilt</th>\n",
       "      <th>YrRenovated</th>\n",
       "      <th>PcntComplete</th>\n",
       "      <th>Obsolescence</th>\n",
       "      <th>PcntNetCondition</th>\n",
       "      <th>Condition</th>\n",
       "      <th>AddnlCost</th>\n",
       "    </tr>\n",
       "  </thead>\n",
       "  <tbody>\n",
       "    <tr>\n",
       "      <th>0</th>\n",
       "      <td>034570</td>\n",
       "      <td>0100</td>\n",
       "      <td>1</td>\n",
       "      <td>1</td>\n",
       "      <td>2101  NE 23RD ST   98056</td>\n",
       "      <td>2101</td>\n",
       "      <td></td>\n",
       "      <td>NE</td>\n",
       "      <td>23RD</td>\n",
       "      <td>ST</td>\n",
       "      <td>...</td>\n",
       "      <td>0</td>\n",
       "      <td>0</td>\n",
       "      <td>0</td>\n",
       "      <td>1981</td>\n",
       "      <td>0</td>\n",
       "      <td>0</td>\n",
       "      <td>0</td>\n",
       "      <td>0</td>\n",
       "      <td>3</td>\n",
       "      <td>0</td>\n",
       "    </tr>\n",
       "    <tr>\n",
       "      <th>1</th>\n",
       "      <td>034570</td>\n",
       "      <td>0140</td>\n",
       "      <td>1</td>\n",
       "      <td>1</td>\n",
       "      <td>2207  NE 23RD ST   98056</td>\n",
       "      <td>2207</td>\n",
       "      <td></td>\n",
       "      <td>NE</td>\n",
       "      <td>23RD</td>\n",
       "      <td>ST</td>\n",
       "      <td>...</td>\n",
       "      <td>0</td>\n",
       "      <td>1</td>\n",
       "      <td>0</td>\n",
       "      <td>1981</td>\n",
       "      <td>0</td>\n",
       "      <td>0</td>\n",
       "      <td>0</td>\n",
       "      <td>0</td>\n",
       "      <td>3</td>\n",
       "      <td>0</td>\n",
       "    </tr>\n",
       "    <tr>\n",
       "      <th>2</th>\n",
       "      <td>034570</td>\n",
       "      <td>0350</td>\n",
       "      <td>1</td>\n",
       "      <td>1</td>\n",
       "      <td>2320   BLAINE AVE NE  98056</td>\n",
       "      <td>2320</td>\n",
       "      <td></td>\n",
       "      <td></td>\n",
       "      <td>BLAINE</td>\n",
       "      <td>AVE</td>\n",
       "      <td>...</td>\n",
       "      <td>0</td>\n",
       "      <td>0</td>\n",
       "      <td>0</td>\n",
       "      <td>1981</td>\n",
       "      <td>2003</td>\n",
       "      <td>0</td>\n",
       "      <td>0</td>\n",
       "      <td>0</td>\n",
       "      <td>3</td>\n",
       "      <td>3500</td>\n",
       "    </tr>\n",
       "    <tr>\n",
       "      <th>3</th>\n",
       "      <td>034800</td>\n",
       "      <td>0090</td>\n",
       "      <td>1</td>\n",
       "      <td>1</td>\n",
       "      <td>523  S 17TH ST   98055</td>\n",
       "      <td>523</td>\n",
       "      <td></td>\n",
       "      <td>S</td>\n",
       "      <td>17TH</td>\n",
       "      <td>ST</td>\n",
       "      <td>...</td>\n",
       "      <td>1</td>\n",
       "      <td>0</td>\n",
       "      <td>1</td>\n",
       "      <td>1967</td>\n",
       "      <td>0</td>\n",
       "      <td>0</td>\n",
       "      <td>0</td>\n",
       "      <td>0</td>\n",
       "      <td>3</td>\n",
       "      <td>0</td>\n",
       "    </tr>\n",
       "    <tr>\n",
       "      <th>4</th>\n",
       "      <td>034800</td>\n",
       "      <td>0095</td>\n",
       "      <td>1</td>\n",
       "      <td>1</td>\n",
       "      <td>517  S 17TH ST   98055</td>\n",
       "      <td>517</td>\n",
       "      <td></td>\n",
       "      <td>S</td>\n",
       "      <td>17TH</td>\n",
       "      <td>ST</td>\n",
       "      <td>...</td>\n",
       "      <td>1</td>\n",
       "      <td>0</td>\n",
       "      <td>1</td>\n",
       "      <td>1967</td>\n",
       "      <td>0</td>\n",
       "      <td>0</td>\n",
       "      <td>0</td>\n",
       "      <td>0</td>\n",
       "      <td>3</td>\n",
       "      <td>0</td>\n",
       "    </tr>\n",
       "    <tr>\n",
       "      <th>5</th>\n",
       "      <td>034800</td>\n",
       "      <td>0100</td>\n",
       "      <td>1</td>\n",
       "      <td>1</td>\n",
       "      <td>1716   MORRIS AVE S  98055</td>\n",
       "      <td>1716</td>\n",
       "      <td></td>\n",
       "      <td></td>\n",
       "      <td>MORRIS</td>\n",
       "      <td>AVE</td>\n",
       "      <td>...</td>\n",
       "      <td>1</td>\n",
       "      <td>0</td>\n",
       "      <td>1</td>\n",
       "      <td>1967</td>\n",
       "      <td>0</td>\n",
       "      <td>0</td>\n",
       "      <td>0</td>\n",
       "      <td>0</td>\n",
       "      <td>4</td>\n",
       "      <td>0</td>\n",
       "    </tr>\n",
       "    <tr>\n",
       "      <th>6</th>\n",
       "      <td>034800</td>\n",
       "      <td>0105</td>\n",
       "      <td>1</td>\n",
       "      <td>1</td>\n",
       "      <td>1722   MORRIS AVE S  98055</td>\n",
       "      <td>1722</td>\n",
       "      <td></td>\n",
       "      <td></td>\n",
       "      <td>MORRIS</td>\n",
       "      <td>AVE</td>\n",
       "      <td>...</td>\n",
       "      <td>1</td>\n",
       "      <td>0</td>\n",
       "      <td>1</td>\n",
       "      <td>1969</td>\n",
       "      <td>0</td>\n",
       "      <td>0</td>\n",
       "      <td>0</td>\n",
       "      <td>0</td>\n",
       "      <td>3</td>\n",
       "      <td>0</td>\n",
       "    </tr>\n",
       "    <tr>\n",
       "      <th>7</th>\n",
       "      <td>034940</td>\n",
       "      <td>0140</td>\n",
       "      <td>1</td>\n",
       "      <td>1</td>\n",
       "      <td>2243   SCANDIA AVE   98022</td>\n",
       "      <td>2243</td>\n",
       "      <td></td>\n",
       "      <td></td>\n",
       "      <td>SCANDIA</td>\n",
       "      <td>AVE</td>\n",
       "      <td>...</td>\n",
       "      <td>0</td>\n",
       "      <td>0</td>\n",
       "      <td>0</td>\n",
       "      <td>1980</td>\n",
       "      <td>0</td>\n",
       "      <td>0</td>\n",
       "      <td>0</td>\n",
       "      <td>0</td>\n",
       "      <td>4</td>\n",
       "      <td>0</td>\n",
       "    </tr>\n",
       "  </tbody>\n",
       "</table>\n",
       "<p>8 rows × 50 columns</p>\n",
       "</div>"
      ],
      "text/plain": [
       "    Major Minor  BldgNbr  NbrLivingUnits                      Address  \\\n",
       "0  034570  0100        1               1     2101  NE 23RD ST   98056   \n",
       "1  034570  0140        1               1     2207  NE 23RD ST   98056   \n",
       "2  034570  0350        1               1  2320   BLAINE AVE NE  98056   \n",
       "3  034800  0090        1               1       523  S 17TH ST   98055   \n",
       "4  034800  0095        1               1       517  S 17TH ST   98055   \n",
       "5  034800  0100        1               1   1716   MORRIS AVE S  98055   \n",
       "6  034800  0105        1               1   1722   MORRIS AVE S  98055   \n",
       "7  034940  0140        1               1   2243   SCANDIA AVE   98022   \n",
       "\n",
       "  BuildingNumber Fraction DirectionPrefix                 StreetName  \\\n",
       "0          2101                        NE  23RD                        \n",
       "1          2207                        NE  23RD                        \n",
       "2          2320                            BLAINE                      \n",
       "3          523                         S   17TH                        \n",
       "4          517                         S   17TH                        \n",
       "5          1716                            MORRIS                      \n",
       "6          1722                            MORRIS                      \n",
       "7          2243                            SCANDIA                     \n",
       "\n",
       "  StreetType    ...     FpMultiStory FpFreestanding  FpAdditional  YrBuilt  \\\n",
       "0     ST        ...                0              0             0     1981   \n",
       "1     ST        ...                0              1             0     1981   \n",
       "2     AVE       ...                0              0             0     1981   \n",
       "3     ST        ...                1              0             1     1967   \n",
       "4     ST        ...                1              0             1     1967   \n",
       "5     AVE       ...                1              0             1     1967   \n",
       "6     AVE       ...                1              0             1     1969   \n",
       "7     AVE       ...                0              0             0     1980   \n",
       "\n",
       "   YrRenovated  PcntComplete  Obsolescence  PcntNetCondition  Condition  \\\n",
       "0            0             0             0                 0          3   \n",
       "1            0             0             0                 0          3   \n",
       "2         2003             0             0                 0          3   \n",
       "3            0             0             0                 0          3   \n",
       "4            0             0             0                 0          3   \n",
       "5            0             0             0                 0          4   \n",
       "6            0             0             0                 0          3   \n",
       "7            0             0             0                 0          4   \n",
       "\n",
       "   AddnlCost  \n",
       "0          0  \n",
       "1          0  \n",
       "2       3500  \n",
       "3          0  \n",
       "4          0  \n",
       "5          0  \n",
       "6          0  \n",
       "7          0  \n",
       "\n",
       "[8 rows x 50 columns]"
      ]
     },
     "execution_count": 71,
     "metadata": {},
     "output_type": "execute_result"
    }
   ],
   "source": [
    "residential_df.head(8)"
   ]
  },
  {
   "cell_type": "code",
   "execution_count": null,
   "metadata": {},
   "outputs": [],
   "source": [
    "residential_df.iloc[0]"
   ]
  },
  {
   "cell_type": "code",
   "execution_count": null,
   "metadata": {},
   "outputs": [],
   "source": [
    "# Check missing values\n",
    "na = (residential_df.isnull().sum() / len(residential_df)) * 100\n",
    "na = na.drop(na[na == 0].index).sort_values(ascending=False)\n",
    "na_df = pd.DataFrame({'Missing Ratio' :na})\n",
    "na_df"
   ]
  },
  {
   "cell_type": "code",
   "execution_count": 40,
   "metadata": {},
   "outputs": [
    {
     "data": {
      "text/plain": [
       "23150"
      ]
     },
     "execution_count": 40,
     "metadata": {},
     "output_type": "execute_result"
    }
   ],
   "source": [
    "residential_df.YrRenovated.value_counts().head()\n",
    "sum(residential_df.YrRenovated.value_counts()[1:])"
   ]
  },
  {
   "cell_type": "code",
   "execution_count": 59,
   "metadata": {},
   "outputs": [
    {
     "data": {
      "text/plain": [
       "(23150, 50)"
      ]
     },
     "execution_count": 59,
     "metadata": {},
     "output_type": "execute_result"
    }
   ],
   "source": [
    "# keep only houses that have been renovated\n",
    "renovated_df = residential_df[residential_df.YrRenovated != 0].copy()\n",
    "renovated_df.shape"
   ]
  },
  {
   "cell_type": "code",
   "execution_count": null,
   "metadata": {},
   "outputs": [],
   "source": [
    "# add ParcelId column and check uniqueness\n",
    "renovated_df[\"ParcelId\"] = renovated_df[\"Major\"]+renovated_df[\"Minor\"]\n",
    "renovated_df.head()\n",
    "len(renovated_df.ParcelId.unique())\n",
    "renovated_df.ParcelId.value_counts().sort_values()"
   ]
  },
  {
   "cell_type": "code",
   "execution_count": 62,
   "metadata": {},
   "outputs": [
    {
     "data": {
      "text/plain": [
       "(22945, 51)"
      ]
     },
     "execution_count": 62,
     "metadata": {},
     "output_type": "execute_result"
    }
   ],
   "source": [
    "# remove duplicates\n",
    "renovated_df = renovated_df.drop_duplicates(\"ParcelId\", keep = False)\n",
    "renovated_df.shape"
   ]
  },
  {
   "cell_type": "code",
   "execution_count": 104,
   "metadata": {},
   "outputs": [],
   "source": [
    "# export renovted_df\n",
    "renovated_df.to_csv(\"Renovated.csv\", index = False)"
   ]
  },
  {
   "cell_type": "code",
   "execution_count": 76,
   "metadata": {},
   "outputs": [
    {
     "data": {
      "text/plain": [
       "(1957142, 24)"
      ]
     },
     "execution_count": 76,
     "metadata": {},
     "output_type": "execute_result"
    }
   ],
   "source": [
    "# II. import sale data\n",
    "sale_dtype = {\"ExciseTaxNbr\": str, \"Major\": str, \"Minor\": str}\n",
    "sale_df = pd.read_csv(\"EXTR_RPSale.csv\", dtype = sale_dtype)\n",
    "sale_df.shape"
   ]
  },
  {
   "cell_type": "code",
   "execution_count": 67,
   "metadata": {},
   "outputs": [
    {
     "data": {
      "text/html": [
       "<div>\n",
       "<style scoped>\n",
       "    .dataframe tbody tr th:only-of-type {\n",
       "        vertical-align: middle;\n",
       "    }\n",
       "\n",
       "    .dataframe tbody tr th {\n",
       "        vertical-align: top;\n",
       "    }\n",
       "\n",
       "    .dataframe thead th {\n",
       "        text-align: right;\n",
       "    }\n",
       "</style>\n",
       "<table border=\"1\" class=\"dataframe\">\n",
       "  <thead>\n",
       "    <tr style=\"text-align: right;\">\n",
       "      <th></th>\n",
       "      <th>ExciseTaxNbr</th>\n",
       "      <th>Major</th>\n",
       "      <th>Minor</th>\n",
       "      <th>DocumentDate</th>\n",
       "      <th>SalePrice</th>\n",
       "      <th>RecordingNbr</th>\n",
       "      <th>Volume</th>\n",
       "      <th>Page</th>\n",
       "      <th>PlatNbr</th>\n",
       "      <th>PlatType</th>\n",
       "      <th>...</th>\n",
       "      <th>PropertyType</th>\n",
       "      <th>PrincipalUse</th>\n",
       "      <th>SaleInstrument</th>\n",
       "      <th>AFForestLand</th>\n",
       "      <th>AFCurrentUseLand</th>\n",
       "      <th>AFNonProfitUse</th>\n",
       "      <th>AFHistoricProperty</th>\n",
       "      <th>SaleReason</th>\n",
       "      <th>PropertyClass</th>\n",
       "      <th>SaleWarning</th>\n",
       "    </tr>\n",
       "  </thead>\n",
       "  <tbody>\n",
       "    <tr>\n",
       "      <th>0</th>\n",
       "      <td>714942</td>\n",
       "      <td>284150</td>\n",
       "      <td>0010</td>\n",
       "      <td>04/06/1983</td>\n",
       "      <td>91500</td>\n",
       "      <td>198304110267</td>\n",
       "      <td>100</td>\n",
       "      <td>057</td>\n",
       "      <td>284150</td>\n",
       "      <td>P</td>\n",
       "      <td>...</td>\n",
       "      <td>2</td>\n",
       "      <td>6</td>\n",
       "      <td>2</td>\n",
       "      <td>N</td>\n",
       "      <td>N</td>\n",
       "      <td>N</td>\n",
       "      <td></td>\n",
       "      <td>1</td>\n",
       "      <td>8</td>\n",
       "      <td></td>\n",
       "    </tr>\n",
       "    <tr>\n",
       "      <th>1</th>\n",
       "      <td>1729614</td>\n",
       "      <td>172204</td>\n",
       "      <td>9157</td>\n",
       "      <td>12/21/1999</td>\n",
       "      <td>0</td>\n",
       "      <td>19991229001498</td>\n",
       "      <td></td>\n",
       "      <td></td>\n",
       "      <td></td>\n",
       "      <td></td>\n",
       "      <td>...</td>\n",
       "      <td>3</td>\n",
       "      <td>11</td>\n",
       "      <td>15</td>\n",
       "      <td>N</td>\n",
       "      <td>N</td>\n",
       "      <td>N</td>\n",
       "      <td>N</td>\n",
       "      <td>10</td>\n",
       "      <td>8</td>\n",
       "      <td>31 45</td>\n",
       "    </tr>\n",
       "    <tr>\n",
       "      <th>2</th>\n",
       "      <td>1729614</td>\n",
       "      <td>172204</td>\n",
       "      <td>9005</td>\n",
       "      <td>12/21/1999</td>\n",
       "      <td>0</td>\n",
       "      <td>19991229001498</td>\n",
       "      <td></td>\n",
       "      <td></td>\n",
       "      <td></td>\n",
       "      <td></td>\n",
       "      <td>...</td>\n",
       "      <td>3</td>\n",
       "      <td>11</td>\n",
       "      <td>15</td>\n",
       "      <td>N</td>\n",
       "      <td>N</td>\n",
       "      <td>N</td>\n",
       "      <td>N</td>\n",
       "      <td>10</td>\n",
       "      <td>8</td>\n",
       "      <td>31 45</td>\n",
       "    </tr>\n",
       "    <tr>\n",
       "      <th>3</th>\n",
       "      <td>2254430</td>\n",
       "      <td>192304</td>\n",
       "      <td>9020</td>\n",
       "      <td>12/05/2006</td>\n",
       "      <td>0</td>\n",
       "      <td>20061207002200</td>\n",
       "      <td></td>\n",
       "      <td></td>\n",
       "      <td></td>\n",
       "      <td></td>\n",
       "      <td>...</td>\n",
       "      <td>3</td>\n",
       "      <td>11</td>\n",
       "      <td>15</td>\n",
       "      <td>N</td>\n",
       "      <td>N</td>\n",
       "      <td>N</td>\n",
       "      <td>N</td>\n",
       "      <td>18</td>\n",
       "      <td>2</td>\n",
       "      <td>18 45</td>\n",
       "    </tr>\n",
       "    <tr>\n",
       "      <th>4</th>\n",
       "      <td>685277</td>\n",
       "      <td>885730</td>\n",
       "      <td>0120</td>\n",
       "      <td>08/11/1982</td>\n",
       "      <td>0</td>\n",
       "      <td>198208170380</td>\n",
       "      <td>086</td>\n",
       "      <td>075</td>\n",
       "      <td>885730</td>\n",
       "      <td>P</td>\n",
       "      <td>...</td>\n",
       "      <td>3</td>\n",
       "      <td>2</td>\n",
       "      <td>15</td>\n",
       "      <td>N</td>\n",
       "      <td>N</td>\n",
       "      <td>N</td>\n",
       "      <td></td>\n",
       "      <td>1</td>\n",
       "      <td>3</td>\n",
       "      <td>11</td>\n",
       "    </tr>\n",
       "  </tbody>\n",
       "</table>\n",
       "<p>5 rows × 24 columns</p>\n",
       "</div>"
      ],
      "text/plain": [
       "  ExciseTaxNbr   Major Minor DocumentDate  SalePrice    RecordingNbr Volume  \\\n",
       "0       714942  284150  0010   04/06/1983      91500  198304110267      100   \n",
       "1      1729614  172204  9157   12/21/1999          0  19991229001498          \n",
       "2      1729614  172204  9005   12/21/1999          0  19991229001498          \n",
       "3      2254430  192304  9020   12/05/2006          0  20061207002200          \n",
       "4       685277  885730  0120   08/11/1982          0  198208170380      086   \n",
       "\n",
       "  Page PlatNbr PlatType     ...     PropertyType PrincipalUse SaleInstrument  \\\n",
       "0  057  284150        P     ...                2            6              2   \n",
       "1                           ...                3           11             15   \n",
       "2                           ...                3           11             15   \n",
       "3                           ...                3           11             15   \n",
       "4  075  885730        P     ...                3            2             15   \n",
       "\n",
       "  AFForestLand  AFCurrentUseLand  AFNonProfitUse  AFHistoricProperty  \\\n",
       "0            N                 N               N                       \n",
       "1            N                 N               N                   N   \n",
       "2            N                 N               N                   N   \n",
       "3            N                 N               N                   N   \n",
       "4            N                 N               N                       \n",
       "\n",
       "  SaleReason PropertyClass SaleWarning  \n",
       "0          1             8              \n",
       "1         10             8       31 45  \n",
       "2         10             8       31 45  \n",
       "3         18             2       18 45  \n",
       "4          1             3          11  \n",
       "\n",
       "[5 rows x 24 columns]"
      ]
     },
     "execution_count": 67,
     "metadata": {},
     "output_type": "execute_result"
    }
   ],
   "source": [
    "sale_df.head()"
   ]
  },
  {
   "cell_type": "code",
   "execution_count": null,
   "metadata": {
    "scrolled": true
   },
   "outputs": [],
   "source": [
    "sale_df.iloc[1]"
   ]
  },
  {
   "cell_type": "code",
   "execution_count": 69,
   "metadata": {},
   "outputs": [
    {
     "data": {
      "text/html": [
       "<div>\n",
       "<style scoped>\n",
       "    .dataframe tbody tr th:only-of-type {\n",
       "        vertical-align: middle;\n",
       "    }\n",
       "\n",
       "    .dataframe tbody tr th {\n",
       "        vertical-align: top;\n",
       "    }\n",
       "\n",
       "    .dataframe thead th {\n",
       "        text-align: right;\n",
       "    }\n",
       "</style>\n",
       "<table border=\"1\" class=\"dataframe\">\n",
       "  <thead>\n",
       "    <tr style=\"text-align: right;\">\n",
       "      <th></th>\n",
       "      <th>Missing Ratio</th>\n",
       "    </tr>\n",
       "  </thead>\n",
       "  <tbody>\n",
       "  </tbody>\n",
       "</table>\n",
       "</div>"
      ],
      "text/plain": [
       "Empty DataFrame\n",
       "Columns: [Missing Ratio]\n",
       "Index: []"
      ]
     },
     "execution_count": 69,
     "metadata": {},
     "output_type": "execute_result"
    }
   ],
   "source": [
    "# check missing values\n",
    "na = (sale_df.isnull().sum() / len(sale_df)) * 100\n",
    "na = na.drop(na[na == 0].index).sort_values(ascending=False)\n",
    "na_df = pd.DataFrame({'Missing Ratio' :na})\n",
    "na_df"
   ]
  },
  {
   "cell_type": "code",
   "execution_count": 95,
   "metadata": {},
   "outputs": [
    {
     "data": {
      "text/plain": [
       "(1277528, 25)"
      ]
     },
     "execution_count": 95,
     "metadata": {},
     "output_type": "execute_result"
    }
   ],
   "source": [
    "sale_df[\"ParcelId\"] = sale_df[\"Major\"]+sale_df[\"Minor\"]\n",
    "# keep only those with sale price above zero\n",
    "saleAboveZero_df = sale_df[sale_df.SalePrice > 0].copy()\n",
    "saleAboveZero_df.shape"
   ]
  },
  {
   "cell_type": "code",
   "execution_count": 80,
   "metadata": {},
   "outputs": [
    {
     "data": {
      "text/plain": [
       "(42946, 25)"
      ]
     },
     "execution_count": 80,
     "metadata": {},
     "output_type": "execute_result"
    }
   ],
   "source": [
    "# keep only those in \"renovated_df\"\n",
    "renovatedFlag = saleAboveZero_df.ParcelId.isin(renovated_df.ParcelId)\n",
    "saleAndRenovated_df = saleAboveZero_df[renovatedFlag].copy()\n",
    "saleAndRenovated_df.shape"
   ]
  },
  {
   "cell_type": "code",
   "execution_count": 112,
   "metadata": {},
   "outputs": [
    {
     "data": {
      "text/plain": [
       "(35654, 25)"
      ]
     },
     "execution_count": 112,
     "metadata": {},
     "output_type": "execute_result"
    }
   ],
   "source": [
    "# keep only ParcelIds that appear more than once\n",
    "multiFlag = saleAndRenovated_df.duplicated(\"ParcelId\", keep=False)\n",
    "multiSale_df = saleAndRenovated_df[multiFlag].copy()\n",
    "multiSale_df.shape"
   ]
  },
  {
   "cell_type": "code",
   "execution_count": 114,
   "metadata": {},
   "outputs": [],
   "source": [
    "# export\n",
    "multiSale_df.to_csv(\"MultiSale.csv\", index = False)"
   ]
  }
 ],
 "metadata": {
  "kernelspec": {
   "display_name": "Python 3",
   "language": "python",
   "name": "python3"
  },
  "language_info": {
   "codemirror_mode": {
    "name": "ipython",
    "version": 3
   },
   "file_extension": ".py",
   "mimetype": "text/x-python",
   "name": "python",
   "nbconvert_exporter": "python",
   "pygments_lexer": "ipython3",
   "version": "3.6.2"
  }
 },
 "nbformat": 4,
 "nbformat_minor": 2
}
